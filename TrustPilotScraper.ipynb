{
 "cells": [
  {
   "cell_type": "markdown",
   "metadata": {
    "vscode": {
     "languageId": "raw"
    }
   },
   "source": [
    "# Scraper de Trustpilot (Categoría: Viajes y Vacaciones)\n",
    "\n",
    "Este notebook extrae información de empresas y reseñas de https://es.trustpilot.com/categories/travel_vacation usando Selenium.\n",
    "\n",
    "## Variables que extrae:\n",
    "- ID de la reseña, Dominio, Nombre de la empresa, Categorías, Calificación de la empresa\n",
    "- Fecha de la reseña, Nombre del cliente, Puntuación del cliente, Texto de la reseña\n",
    "- Columnas vacías para LLM: Idioma, Sentimiento, Emoción, Género del cliente, Tema principal, Palabras clave, Tipo de cliente, Tipo de turista, Tipo de grupo, ¿Analizado?\n"
   ]
  },
  {
   "cell_type": "code",
   "execution_count": 1,
   "metadata": {},
   "outputs": [],
   "source": [
    "# Importar librerías necesarias\n",
    "import pandas as pd\n",
    "from selenium import webdriver\n",
    "from selenium.webdriver.common.by import By\n",
    "from selenium.webdriver.support.ui import WebDriverWait\n",
    "from selenium.webdriver.support import expected_conditions as EC\n",
    "from selenium.webdriver.chrome.service import Service\n",
    "from selenium.webdriver.chrome.options import Options\n",
    "from webdriver_manager.chrome import ChromeDriverManager\n",
    "from bs4 import BeautifulSoup\n",
    "import time\n",
    "import re\n",
    "from datetime import datetime\n",
    "from tqdm import tqdm\n",
    "import json\n",
    "import hashlib\n"
   ]
  },
  {
   "cell_type": "code",
   "execution_count": 2,
   "metadata": {},
   "outputs": [],
   "source": [
    "# Configuración del driver de Chrome\n",
    "def setup_driver(headless=False):\n",
    "    \"\"\"Configura y retorna el driver de Chrome con las opciones necesarias\"\"\"\n",
    "    chrome_options = Options()\n",
    "    \n",
    "    # Modo headless opcional\n",
    "    if headless:\n",
    "        chrome_options.add_argument('--headless')\n",
    "    \n",
    "    # Opciones para evitar detección\n",
    "    chrome_options.add_argument('--no-sandbox')\n",
    "    chrome_options.add_argument('--disable-dev-shm-usage')\n",
    "    chrome_options.add_argument('--disable-blink-features=AutomationControlled')\n",
    "    chrome_options.add_experimental_option(\"excludeSwitches\", [\"enable-automation\"])\n",
    "    chrome_options.add_experimental_option('useAutomationExtension', False)\n",
    "    \n",
    "    # Desactivar imágenes para cargar más rápido (opcional)\n",
    "    # prefs = {\"profile.managed_default_content_settings.images\": 2}\n",
    "    # chrome_options.add_experimental_option(\"prefs\", prefs)\n",
    "    \n",
    "    # User agent realista\n",
    "    chrome_options.add_argument('user-agent=Mozilla/5.0 (Macintosh; Intel Mac OS X 10_15_7) AppleWebKit/537.36 (KHTML, like Gecko) Chrome/119.0.0.0 Safari/537.36')\n",
    "    \n",
    "    # Tamaño de ventana\n",
    "    chrome_options.add_argument('--window-size=1920,1080')\n",
    "    \n",
    "    # Otras opciones para parecer más humano\n",
    "    chrome_options.add_argument('--disable-gpu')\n",
    "    chrome_options.add_argument('--disable-extensions')\n",
    "    chrome_options.add_argument('--proxy-server=\"direct://\"')\n",
    "    chrome_options.add_argument('--proxy-bypass-list=*')\n",
    "    chrome_options.add_argument('--start-maximized')\n",
    "    \n",
    "    try:\n",
    "        # Inicializar driver\n",
    "        service = Service(ChromeDriverManager().install())\n",
    "        driver = webdriver.Chrome(service=service, options=chrome_options)\n",
    "        \n",
    "        # Ejecutar JavaScript para ocultar webdriver\n",
    "        driver.execute_script(\"Object.defineProperty(navigator, 'webdriver', {get: () => undefined})\")\n",
    "        \n",
    "        driver.implicitly_wait(10)\n",
    "        print(\"✅ Driver Chrome iniciado correctamente\")\n",
    "        return driver\n",
    "        \n",
    "    except Exception as e:\n",
    "        print(f\"❌ Error al iniciar Chrome: {e}\")\n",
    "        raise e\n"
   ]
  },
  {
   "cell_type": "code",
   "execution_count": 3,
   "metadata": {},
   "outputs": [],
   "source": [
    "# Función para delays aleatorios más humanos\n",
    "import random\n",
    "\n",
    "def random_delay(min_seconds=1, max_seconds=3):\n",
    "    \"\"\"Pausa aleatoria para parecer más humano\"\"\"\n",
    "    delay = random.uniform(min_seconds, max_seconds)\n",
    "    time.sleep(delay)\n"
   ]
  },
  {
   "cell_type": "code",
   "execution_count": 4,
   "metadata": {},
   "outputs": [],
   "source": [
    "# Funciones auxiliares\n",
    "def generate_review_id(company_name, review_date, customer_name, review_text):\n",
    "    \"\"\"Genera un ID único para cada reseña\"\"\"\n",
    "    content = f\"{company_name}{review_date}{customer_name}{review_text[:50]}\"\n",
    "    return hashlib.md5(content.encode()).hexdigest()[:12]\n",
    "\n",
    "def parse_date(date_str):\n",
    "    \"\"\"Convierte la fecha del formato de Trustpilot a formato estándar\"\"\"\n",
    "    try:\n",
    "        # Mapeo de meses en español\n",
    "        meses = {\n",
    "            'enero': 'January', 'febrero': 'February', 'marzo': 'March',\n",
    "            'abril': 'April', 'mayo': 'May', 'junio': 'June',\n",
    "            'julio': 'July', 'agosto': 'August', 'septiembre': 'September',\n",
    "            'octubre': 'October', 'noviembre': 'November', 'diciembre': 'December'\n",
    "        }\n",
    "        \n",
    "        # Reemplazar mes español por inglés\n",
    "        for mes_esp, mes_eng in meses.items():\n",
    "            date_str = date_str.replace(mes_esp, mes_eng)\n",
    "        \n",
    "        # Parsear fecha\n",
    "        return pd.to_datetime(date_str, format='%d de %B de %Y')\n",
    "    except:\n",
    "        return None\n",
    "\n",
    "def scroll_to_load_reviews(driver, max_scrolls=10):\n",
    "    \"\"\"Hace scroll para cargar más reseñas\"\"\"\n",
    "    last_height = driver.execute_script(\"return document.body.scrollHeight\")\n",
    "    scrolls = 0\n",
    "    \n",
    "    while scrolls < max_scrolls:\n",
    "        driver.execute_script(\"window.scrollTo(0, document.body.scrollHeight);\")\n",
    "        time.sleep(2)\n",
    "        \n",
    "        new_height = driver.execute_script(\"return document.body.scrollHeight\")\n",
    "        if new_height == last_height:\n",
    "            break\n",
    "            \n",
    "        last_height = new_height\n",
    "        scrolls += 1\n"
   ]
  },
  {
   "cell_type": "code",
   "execution_count": 5,
   "metadata": {},
   "outputs": [],
   "source": [
    "# Función de debugging para analizar la estructura de la página\n",
    "def debug_page_structure(driver, url):\n",
    "    \"\"\"Analiza la estructura de la página para encontrar selectores correctos\"\"\"\n",
    "    print(f\"\\n🔍 DEBUGGING: Analizando estructura de {url}\")\n",
    "    driver.get(url)\n",
    "    time.sleep(5)\n",
    "    \n",
    "    soup = BeautifulSoup(driver.page_source, 'html.parser')\n",
    "    \n",
    "    # Buscar todos los enlaces que podrían ser de empresas\n",
    "    review_links = soup.find_all('a', href=re.compile('/review/'))\n",
    "    print(f\"📌 Enlaces con /review/: {len(review_links)}\")\n",
    "    if review_links:\n",
    "        print(\"   Primeros 3 ejemplos:\")\n",
    "        for i, link in enumerate(review_links[:3]):\n",
    "            print(f\"   - {link.get('href')} | Texto: {link.text.strip()[:50]}\")\n",
    "    \n",
    "    # Buscar elementos article\n",
    "    articles = soup.find_all('article')\n",
    "    print(f\"📌 Elementos <article>: {len(articles)}\")\n",
    "    \n",
    "    # Buscar elementos con clases que contengan 'business' o 'company'\n",
    "    business_elements = soup.find_all(class_=re.compile('business|company', re.I))\n",
    "    print(f\"📌 Elementos con clases 'business/company': {len(business_elements)}\")\n",
    "    \n",
    "    # Buscar elementos con data attributes\n",
    "    data_attrs = soup.find_all(attrs={'data-business-unit-card': True})\n",
    "    print(f\"📌 Elementos con data-business-unit-card: {len(data_attrs)}\")\n",
    "    \n",
    "    # Guardar HTML para análisis manual\n",
    "    with open('trustpilot_debug.html', 'w', encoding='utf-8') as f:\n",
    "        f.write(str(soup.prettify()))\n",
    "    print(\"💾 HTML guardado en trustpilot_debug.html\")\n",
    "    \n",
    "    # Tomar screenshot\n",
    "    driver.save_screenshot('trustpilot_debug.png')\n",
    "    print(\"📸 Screenshot guardado en trustpilot_debug.png\")\n",
    "    \n",
    "    return soup\n"
   ]
  },
  {
   "cell_type": "code",
   "execution_count": 6,
   "metadata": {},
   "outputs": [],
   "source": [
    "# Función para extraer información de las empresas\n",
    "def get_companies_from_category(driver, category_url, max_pages=75):\n",
    "    \"\"\"Extrae información de empresas de una categoría\"\"\"\n",
    "    companies = []\n",
    "    \n",
    "    for page in range(1, max_pages + 1):\n",
    "        url = f\"{category_url}?page={page}\"\n",
    "        print(f\"🔍 Accediendo a: {url}\")\n",
    "        driver.get(url)\n",
    "        time.sleep(5)  # Aumentar tiempo de espera\n",
    "        \n",
    "        # Guardar HTML para debugging\n",
    "        page_source = driver.page_source\n",
    "        soup = BeautifulSoup(page_source, 'html.parser')\n",
    "        \n",
    "        # Diferentes selectores posibles para las tarjetas de empresas\n",
    "        # ORDEN MODIFICADO: El selector 'paper_paper__' causaba duplicados (encontraba los mismos 10 elementos en cada página)\n",
    "        selectors = [\n",
    "            {'tag': 'div', 'attrs': {'data-business-unit-card': True}},\n",
    "            {'tag': 'article', 'attrs': {'class': re.compile('styles_businessUnitCard')}},\n",
    "            {'tag': 'div', 'attrs': {'class': re.compile('styles_businessUnitCard')}},\n",
    "            # Usar directamente los enlaces que SÍ funcionan (debug muestra ~30 por página)\n",
    "            {'tag': 'a', 'attrs': {'href': re.compile('/review/[^/?]+$')}},  # Solo enlaces que terminan con dominio\n",
    "            # ELIMINADO: {'tag': 'div', 'attrs': {'class': re.compile('paper_paper__')}}, # ¡Este causaba los duplicados!\n",
    "        ]\n",
    "        \n",
    "        company_cards = []\n",
    "        for selector in selectors:\n",
    "            company_cards = soup.find_all(selector['tag'], attrs=selector['attrs'])\n",
    "            if company_cards:\n",
    "                print(f\"✅ Encontradas {len(company_cards)} tarjetas usando selector: {selector}\")\n",
    "                break\n",
    "        \n",
    "        if not company_cards:\n",
    "            print(f\"⚠️ No se encontraron tarjetas de empresas en la página {page}\")\n",
    "            print(\"🔍 Guardando screenshot para debugging...\")\n",
    "            driver.save_screenshot(f\"trustpilot_page_{page}_debug.png\")\n",
    "            \n",
    "            # Buscar enlaces alternativos\n",
    "            all_links = soup.find_all('a', href=re.compile('/review/'))\n",
    "            if all_links:\n",
    "                print(f\"📌 Encontrados {len(all_links)} enlaces de review\")\n",
    "            \n",
    "            # Si es la primera página, intentar con wait más específico\n",
    "            if page == 1:\n",
    "                try:\n",
    "                    print(\"⏳ Esperando carga completa de la página...\")\n",
    "                    WebDriverWait(driver, 15).until(\n",
    "                        EC.presence_of_element_located((By.TAG_NAME, \"article\"))\n",
    "                    )\n",
    "                    soup = BeautifulSoup(driver.page_source, 'html.parser')\n",
    "                    company_cards = soup.find_all('article')\n",
    "                    if company_cards:\n",
    "                        print(f\"✅ Encontrados {len(company_cards)} articles después de esperar\")\n",
    "                except:\n",
    "                    pass\n",
    "            \n",
    "            if not company_cards:\n",
    "                continue\n",
    "        \n",
    "        # Si son enlaces directos, procesarlos de manera diferente\n",
    "        if company_cards and company_cards[0].name == 'a':\n",
    "            for link in company_cards:\n",
    "                try:\n",
    "                    company_url = link.get('href', '')\n",
    "                    if '/review/' not in company_url:\n",
    "                        continue\n",
    "                        \n",
    "                    if not company_url.startswith('http'):\n",
    "                        company_url = f\"https://es.trustpilot.com{company_url}\"\n",
    "                    \n",
    "                    # Obtener dominio primero para limpiar el nombre\n",
    "                    domain = company_url.split('/')[-1].split('?')[0]  # Remover parámetros\n",
    "                    \n",
    "                    # Obtener el nombre de la empresa con mejores estrategias\n",
    "                    company_name = \"\"\n",
    "                    \n",
    "                    # Estrategia 1: Buscar en el texto del enlace y limpiar\n",
    "                    link_text = link.get_text(separator=' ', strip=True)\n",
    "                    if link_text:\n",
    "                        # Limpiar texto común no deseado\n",
    "                        company_name = link_text.replace('Más relevantes', '').replace('Más relevante', '').strip()\n",
    "                        \n",
    "                        # Si el dominio está en el texto, usar lo que está antes\n",
    "                        if domain in company_name:\n",
    "                            parts = company_name.split(domain)\n",
    "                            if parts and parts[0]:\n",
    "                                company_name = parts[0].strip()\n",
    "                        \n",
    "                        # Si hay números (rating), cortar antes del primer número\n",
    "                        match = re.search(r'^([^0-9]+?)(?:\\d|$)', company_name)\n",
    "                        if match:\n",
    "                            company_name = match.group(1).strip()\n",
    "                    \n",
    "                    # Estrategia 2: Buscar en elementos hijos si no encontramos nombre\n",
    "                    if not company_name or len(company_name) < 2:\n",
    "                        name_elem = link.find(['span', 'p', 'h2', 'h3'])\n",
    "                        if name_elem:\n",
    "                            company_name = name_elem.text.strip()\n",
    "                    \n",
    "                    # Fallback: usar el dominio limpio\n",
    "                    if not company_name or len(company_name) < 2:\n",
    "                        company_name = domain.replace('.com', '').replace('.es', '').replace('-', ' ').title()\n",
    "                    \n",
    "                    # Buscar información adicional en el contenedor padre\n",
    "                    parent = link.parent\n",
    "                    rating = \"N/A\"\n",
    "                    num_reviews = \"0\"\n",
    "                    \n",
    "                    if parent:\n",
    "                        # Buscar calificación\n",
    "                        rating_elem = parent.find(text=re.compile(r'\\d+[,\\.]\\d+'))\n",
    "                        if rating_elem:\n",
    "                            rating = re.search(r'\\d+[,\\.]\\d+', rating_elem).group()\n",
    "                        \n",
    "                        # Buscar número de reseñas\n",
    "                        reviews_elem = parent.find(text=re.compile(r'\\d+\\s*(reseñas?|reviews?|opiniones?)'))\n",
    "                        if reviews_elem:\n",
    "                            num_match = re.search(r'(\\d+)', reviews_elem)\n",
    "                            if num_match:\n",
    "                                num_reviews = num_match.group(1)\n",
    "                    \n",
    "                    companies.append({\n",
    "                        'company_name': company_name,\n",
    "                        'domain': domain,\n",
    "                        'company_url': company_url,\n",
    "                        'rating': rating,\n",
    "                        'num_reviews': num_reviews,\n",
    "                        'categories': 'travel_vacation'\n",
    "                    })\n",
    "                    \n",
    "                except Exception as e:\n",
    "                    print(f\"Error procesando enlace: {e}\")\n",
    "                    continue\n",
    "        else:\n",
    "            # Procesar tarjetas normales\n",
    "            for card in company_cards:\n",
    "                try:\n",
    "                    # Buscar enlace principal\n",
    "                    link_elem = card.find('a', href=re.compile('/review/'))\n",
    "                    if not link_elem:\n",
    "                        continue\n",
    "                    \n",
    "                    company_url = link_elem.get('href', '')\n",
    "                    if not company_url.startswith('http'):\n",
    "                        company_url = f\"https://es.trustpilot.com{company_url}\"\n",
    "                    \n",
    "                    # Nombre de la empresa - múltiples estrategias\n",
    "                    company_name = None\n",
    "                    name_selectors = [\n",
    "                        ('p', {'class': re.compile('typography_heading')}),\n",
    "                        ('span', {'class': re.compile('typography_heading')}),\n",
    "                        ('h2', {}),\n",
    "                        ('h3', {}),\n",
    "                        ('p', {'class': re.compile('displayName')}),\n",
    "                        ('a', {}),  # El mismo enlace\n",
    "                    ]\n",
    "                    \n",
    "                    for tag, attrs in name_selectors:\n",
    "                        name_elem = card.find(tag, attrs)\n",
    "                        if name_elem and name_elem.text.strip():\n",
    "                            company_name = name_elem.text.strip()\n",
    "                            break\n",
    "                    \n",
    "                    if not company_name:\n",
    "                        company_name = link_elem.text.strip() or company_url.split('/')[-1]\n",
    "                    \n",
    "                    # Dominio\n",
    "                    domain = company_url.split('/')[-1] if company_url else \"N/A\"\n",
    "                    \n",
    "                    # Calificación\n",
    "                    rating = \"N/A\"\n",
    "                    rating_patterns = [r'\\d+[,\\.]\\d+', r'\\d+\\.\\d+', r'\\d+,\\d+']\n",
    "                    for pattern in rating_patterns:\n",
    "                        rating_elem = card.find(text=re.compile(pattern))\n",
    "                        if rating_elem:\n",
    "                            match = re.search(pattern, rating_elem)\n",
    "                            if match:\n",
    "                                rating = match.group()\n",
    "                                break\n",
    "                    \n",
    "                    # Número de reseñas\n",
    "                    num_reviews = \"0\"\n",
    "                    review_patterns = [\n",
    "                        r'(\\d+)\\s*(reseñas?|opiniones?|reviews?)',\n",
    "                        r'(\\d+)\\s*total',\n",
    "                        r'\\((\\d+)\\)'\n",
    "                    ]\n",
    "                    \n",
    "                    for pattern in review_patterns:\n",
    "                        reviews_elem = card.find(text=re.compile(pattern, re.IGNORECASE))\n",
    "                        if reviews_elem:\n",
    "                            match = re.search(r'\\d+', reviews_elem)\n",
    "                            if match:\n",
    "                                num_reviews = match.group()\n",
    "                                break\n",
    "                    \n",
    "                    if company_name and company_name != \"N/A\":\n",
    "                        companies.append({\n",
    "                            'company_name': company_name,\n",
    "                            'domain': domain,\n",
    "                            'company_url': company_url,\n",
    "                            'rating': rating,\n",
    "                            'num_reviews': num_reviews,\n",
    "                            'categories': 'travel_vacation'\n",
    "                        })\n",
    "                        \n",
    "                except Exception as e:\n",
    "                    print(f\"Error al procesar tarjeta: {e}\")\n",
    "                    continue\n",
    "        \n",
    "        print(f\"📊 Página {page}: {len(companies)} empresas acumuladas\")\n",
    "    \n",
    "    # Eliminar duplicados\n",
    "    seen = set()\n",
    "    unique_companies = []\n",
    "    for company in companies:\n",
    "        if company['company_url'] not in seen:\n",
    "            seen.add(company['company_url'])\n",
    "            unique_companies.append(company)\n",
    "    \n",
    "    print(f\"\\n✅ Total de empresas únicas encontradas: {len(unique_companies)}\")\n",
    "    if unique_companies:\n",
    "        print(\"📋 Primeras 3 empresas:\")\n",
    "        for i, company in enumerate(unique_companies[:3]):\n",
    "            print(f\"   {i+1}. {company['company_name']} - {company['rating']} ({company['num_reviews']} reseñas)\")\n",
    "    \n",
    "    return unique_companies\n"
   ]
  },
  {
   "cell_type": "code",
   "execution_count": 7,
   "metadata": {},
   "outputs": [
    {
     "name": "stdout",
     "output_type": "stream",
     "text": [
      "✅ Driver Chrome iniciado correctamente\n",
      "\n",
      "🔍 DEBUGGING: Analizando estructura de https://es.trustpilot.com/categories/travel_vacation\n",
      "📌 Enlaces con /review/: 30\n",
      "   Primeros 3 ejemplos:\n",
      "   - /review/guruwalk.com | Texto: Más relevantesGuruwalk - Free toursguruwalk.com4,9\n",
      "   - /review/dayuse.es | Texto: Más relevantesDayuse.esdayuse.es4,9862 opiniones5 \n",
      "   - /review/bookaris.com | Texto: Más relevantesBookaris.combookaris.com4,9514 opini\n",
      "📌 Elementos <article>: 0\n",
      "📌 Elementos con clases 'business/company': 190\n",
      "📌 Elementos con data-business-unit-card: 0\n",
      "💾 HTML guardado en trustpilot_debug.html\n",
      "📸 Screenshot guardado en trustpilot_debug.png\n",
      "\n",
      "==================================================\n",
      "🔍 Intentando acceso directo a una empresa conocida...\n",
      "✅ Acceso exitoso a página de empresa\n",
      "\n",
      "🔚 Test completado\n"
     ]
    }
   ],
   "source": [
    "# TEST: Ejecutar debugging para ver qué está pasando\n",
    "driver = setup_driver(headless=False)  # Usar headless=True si no quieres ver el navegador\n",
    "try:\n",
    "    # Analizar la página de categoría\n",
    "    category_url = \"https://es.trustpilot.com/categories/travel_vacation\"\n",
    "    debug_page_structure(driver, category_url)\n",
    "    \n",
    "    print(\"\\n\" + \"=\"*50)\n",
    "    print(\"🔍 Intentando acceso directo a una empresa conocida...\")\n",
    "    \n",
    "    # Intentar acceder directamente a una empresa conocida\n",
    "    test_company_url = \"https://es.trustpilot.com/review/www.booking.com\"\n",
    "    driver.get(test_company_url)\n",
    "    time.sleep(3)\n",
    "    \n",
    "    if \"booking\" in driver.current_url.lower():\n",
    "        print(\"✅ Acceso exitoso a página de empresa\")\n",
    "    else:\n",
    "        print(\"❌ Redirigido o bloqueado\")\n",
    "        print(f\"URL actual: {driver.current_url}\")\n",
    "        \n",
    "finally:\n",
    "    driver.quit()\n",
    "    print(\"\\n🔚 Test completado\")\n"
   ]
  },
  {
   "cell_type": "code",
   "execution_count": 8,
   "metadata": {},
   "outputs": [],
   "source": [
    "# Función para extraer reseñas de una empresa con paginación\n",
    "def get_reviews_from_company(driver, company_info, max_review_pages=3):\n",
    "    \"\"\"Extrae reseñas de una empresa específica con paginación\"\"\"\n",
    "    reviews = []\n",
    "    \n",
    "    for page in range(1, max_review_pages + 1):\n",
    "        # Construir URL con paginación\n",
    "        if page == 1:\n",
    "            review_url = company_info['company_url']\n",
    "        else:\n",
    "            review_url = f\"{company_info['company_url']}?page={page}\"\n",
    "        \n",
    "        print(f\"   📄 Página {page} de reseñas: {review_url}\")\n",
    "        driver.get(review_url)\n",
    "        random_delay(2, 4)  # Delay aleatorio más humano\n",
    "        \n",
    "        # Hacer scroll para cargar más reseñas en la página actual\n",
    "        scroll_to_load_reviews(driver, max_scrolls=3)\n",
    "        \n",
    "        # Obtener HTML actualizado\n",
    "        soup = BeautifulSoup(driver.page_source, 'html.parser')\n",
    "        \n",
    "        # Buscar reseñas\n",
    "        review_cards = soup.find_all('article', class_=re.compile('paper_paper__'))\n",
    "        \n",
    "        if not review_cards:\n",
    "            print(f\"   ⚠️ No se encontraron reseñas en la página {page}\")\n",
    "            break\n",
    "        \n",
    "        page_reviews = 0\n",
    "        for card in review_cards:\n",
    "            try:\n",
    "                # Nombre del cliente\n",
    "                customer_elem = card.find('span', attrs={'data-consumer-name-typography': 'true'})\n",
    "                customer_name = customer_elem.text.strip() if customer_elem else \"Anónimo\"\n",
    "                \n",
    "                # Fecha de la reseña\n",
    "                date_elem = card.find('time')\n",
    "                review_date = date_elem.get('datetime', '') if date_elem else \"\"\n",
    "                if not review_date:\n",
    "                    date_text = date_elem.text.strip() if date_elem else \"\"\n",
    "                    review_date = parse_date(date_text)\n",
    "                \n",
    "                # Puntuación (estrellas)\n",
    "                rating_elem = card.find('div', attrs={'data-service-review-rating': True})\n",
    "                if rating_elem:\n",
    "                    rating_attr = rating_elem.get('data-service-review-rating', '0')\n",
    "                    customer_score = int(rating_attr) if rating_attr.isdigit() else 0\n",
    "                else:\n",
    "                    # Buscar alternativa\n",
    "                    star_elem = card.find('img', alt=re.compile('Valorado con'))\n",
    "                    if star_elem:\n",
    "                        alt_text = star_elem.get('alt', '')\n",
    "                        score_match = re.search(r'(\\d+)', alt_text)\n",
    "                        customer_score = int(score_match.group(1)) if score_match else 0\n",
    "                    else:\n",
    "                        customer_score = 0\n",
    "                \n",
    "                # Texto de la reseña\n",
    "                review_elem = card.find('p', attrs={'data-service-review-text-typography': 'true'})\n",
    "                review_text = review_elem.text.strip() if review_elem else \"\"\n",
    "                \n",
    "                # Generar ID único\n",
    "                review_id = generate_review_id(\n",
    "                    company_info['company_name'], \n",
    "                    str(review_date), \n",
    "                    customer_name, \n",
    "                    review_text\n",
    "                )\n",
    "                \n",
    "                reviews.append({\n",
    "                    'review_id': review_id,\n",
    "                    'domain': company_info['domain'],\n",
    "                    'company_name': company_info['company_name'],\n",
    "                    'categories': company_info['categories'],\n",
    "                    'company_rating': company_info['rating'],\n",
    "                    'review_date': review_date,\n",
    "                    'customer_name': customer_name,\n",
    "                    'customer_score': customer_score,\n",
    "                    'review_text': review_text,\n",
    "                    # Columnas vacías para análisis LLM\n",
    "                    'language': '',\n",
    "                    'sentiment': '',\n",
    "                    'emotion': '',\n",
    "                    'customer_gender': '',\n",
    "                    'main_topic': '',\n",
    "                    'keywords': '',\n",
    "                    'customer_type': '',\n",
    "                    'tourist_type': '',\n",
    "                    'group_type': '',\n",
    "                    'analyzed': False\n",
    "                })\n",
    "                page_reviews += 1\n",
    "                \n",
    "            except Exception as e:\n",
    "                print(f\"   ❌ Error al procesar reseña: {e}\")\n",
    "                continue\n",
    "        \n",
    "        print(f\"   ✅ Página {page}: {page_reviews} reseñas extraídas\")\n",
    "        \n",
    "        # Si no hay más páginas, salir del loop\n",
    "        if page_reviews == 0:\n",
    "            break\n",
    "            \n",
    "        # Verificar si hay botón \"Siguiente\" para continuar\n",
    "        try:\n",
    "            next_button = soup.find('a', {'aria-label': re.compile('Next|Siguiente', re.I)})\n",
    "            if not next_button or 'disabled' in str(next_button.get('class', [])):\n",
    "                print(f\"   🏁 No hay más páginas de reseñas\")\n",
    "                break\n",
    "        except:\n",
    "            pass\n",
    "    \n",
    "    print(f\"📊 Total: {len(reviews)} reseñas extraídas de {company_info['company_name']}\")\n",
    "    return reviews\n"
   ]
  },
  {
   "cell_type": "code",
   "execution_count": 9,
   "metadata": {},
   "outputs": [],
   "source": [
    "# Función principal del scraper\n",
    "def scrape_trustpilot_travel(max_companies=10, max_review_pages_per_company=3, max_company_pages=3):\n",
    "    \"\"\"\n",
    "    Función principal que ejecuta todo el proceso de scraping\n",
    "    \n",
    "    Parámetros:\n",
    "    - max_companies: Número máximo de empresas a procesar\n",
    "    - max_review_pages_per_company: Número máximo de páginas de reseñas por empresa\n",
    "    - max_company_pages: Número máximo de páginas de la categoría a recorrer\n",
    "    \"\"\"\n",
    "    # URL de la categoría de viajes y vacaciones\n",
    "    category_url = \"https://es.trustpilot.com/categories/travel_vacation\"\n",
    "    \n",
    "    # Inicializar driver\n",
    "    print(\"🚀 Iniciando navegador...\")\n",
    "    driver = setup_driver()\n",
    "    \n",
    "    try:\n",
    "        # Obtener lista de empresas\n",
    "        print(f\"\\n🔍 Buscando empresas en la categoría de viajes...\")\n",
    "        print(f\"   • Páginas de categoría a recorrer: {max_company_pages}\")\n",
    "        companies = get_companies_from_category(driver, category_url, max_pages=max_company_pages)\n",
    "        \n",
    "        # Limitar número de empresas\n",
    "        companies = companies[:max_companies]\n",
    "        print(f\"\\n📋 Total de empresas a procesar: {len(companies)}\")\n",
    "        print(f\"   • Páginas de reseñas por empresa: {max_review_pages_per_company}\")\n",
    "        \n",
    "        # Extraer reseñas de cada empresa\n",
    "        all_reviews = []\n",
    "        \n",
    "        for i, company in enumerate(tqdm(companies, desc=\"Procesando empresas\")):\n",
    "            print(f\"\\n[{i+1}/{len(companies)}] 🏢 Procesando: {company['company_name']}\")\n",
    "            \n",
    "            try:\n",
    "                reviews = get_reviews_from_company(driver, company, max_review_pages=max_review_pages_per_company)\n",
    "                all_reviews.extend(reviews)\n",
    "                \n",
    "                # Pausa entre empresas para evitar bloqueos\n",
    "                random_delay(2, 4)\n",
    "                \n",
    "            except Exception as e:\n",
    "                print(f\"❌ Error al procesar {company['company_name']}: {e}\")\n",
    "                continue\n",
    "        \n",
    "        # Crear DataFrame\n",
    "        df_reviews = pd.DataFrame(all_reviews)\n",
    "        \n",
    "        # Guardar resultados\n",
    "        timestamp = datetime.now().strftime(\"%Y%m%d_%H%M%S\")\n",
    "        filename = f\"trustpilot_travel_reviews_{timestamp}.csv\"\n",
    "        df_reviews.to_csv(filename, index=False, encoding='utf-8-sig')\n",
    "        \n",
    "        print(f\"\\n✅ Scraping completado!\")\n",
    "        print(f\"📊 Total de reseñas extraídas: {len(all_reviews)}\")\n",
    "        print(f\"💾 Archivo guardado: {filename}\")\n",
    "        \n",
    "        # Mostrar estadísticas\n",
    "        if len(df_reviews) > 0:\n",
    "            print(f\"\\n📈 Estadísticas:\")\n",
    "            print(f\"   • Empresas únicas: {df_reviews['company_name'].nunique()}\")\n",
    "            print(f\"   • Promedio de reseñas por empresa: {len(df_reviews) / df_reviews['company_name'].nunique():.1f}\")\n",
    "            print(f\"   • Distribución de puntuaciones:\")\n",
    "            score_dist = df_reviews['customer_score'].value_counts().sort_index()\n",
    "            for score, count in score_dist.items():\n",
    "                print(f\"     ⭐ {score}: {count} reseñas ({count/len(df_reviews)*100:.1f}%)\")\n",
    "        \n",
    "        return df_reviews\n",
    "        \n",
    "    finally:\n",
    "        # Cerrar navegador\n",
    "        driver.quit()\n",
    "        print(\"\\n🔚 Navegador cerrado.\")\n"
   ]
  },
  {
   "cell_type": "code",
   "execution_count": 10,
   "metadata": {},
   "outputs": [
    {
     "name": "stdout",
     "output_type": "stream",
     "text": [
      "🚀 Iniciando navegador...\n",
      "✅ Driver Chrome iniciado correctamente\n",
      "\n",
      "🔍 Buscando empresas en la categoría de viajes...\n",
      "   • Páginas de categoría a recorrer: 5\n",
      "🔍 Accediendo a: https://es.trustpilot.com/categories/travel_vacation?page=1\n",
      "✅ Encontradas 29 tarjetas usando selector: {'tag': 'a', 'attrs': {'href': re.compile('/review/[^/?]+$')}}\n",
      "📊 Página 1: 29 empresas acumuladas\n",
      "🔍 Accediendo a: https://es.trustpilot.com/categories/travel_vacation?page=2\n"
     ]
    },
    {
     "name": "stderr",
     "output_type": "stream",
     "text": [
      "/var/folders/2h/j25t7r2x2gz01h_zbbny8klh0000gn/T/ipykernel_9515/4051170837.py:112: DeprecationWarning: The 'text' argument to find()-type methods is deprecated. Use 'string' instead.\n",
      "  rating_elem = parent.find(text=re.compile(r'\\d+[,\\.]\\d+'))\n",
      "/var/folders/2h/j25t7r2x2gz01h_zbbny8klh0000gn/T/ipykernel_9515/4051170837.py:117: DeprecationWarning: The 'text' argument to find()-type methods is deprecated. Use 'string' instead.\n",
      "  reviews_elem = parent.find(text=re.compile(r'\\d+\\s*(reseñas?|reviews?|opiniones?)'))\n"
     ]
    },
    {
     "name": "stdout",
     "output_type": "stream",
     "text": [
      "✅ Encontradas 30 tarjetas usando selector: {'tag': 'a', 'attrs': {'href': re.compile('/review/[^/?]+$')}}\n",
      "📊 Página 2: 59 empresas acumuladas\n",
      "🔍 Accediendo a: https://es.trustpilot.com/categories/travel_vacation?page=3\n",
      "✅ Encontradas 30 tarjetas usando selector: {'tag': 'a', 'attrs': {'href': re.compile('/review/[^/?]+$')}}\n",
      "📊 Página 3: 89 empresas acumuladas\n",
      "🔍 Accediendo a: https://es.trustpilot.com/categories/travel_vacation?page=4\n",
      "✅ Encontradas 30 tarjetas usando selector: {'tag': 'a', 'attrs': {'href': re.compile('/review/[^/?]+$')}}\n",
      "📊 Página 4: 119 empresas acumuladas\n",
      "🔍 Accediendo a: https://es.trustpilot.com/categories/travel_vacation?page=5\n",
      "✅ Encontradas 30 tarjetas usando selector: {'tag': 'a', 'attrs': {'href': re.compile('/review/[^/?]+$')}}\n",
      "📊 Página 5: 149 empresas acumuladas\n",
      "\n",
      "✅ Total de empresas únicas encontradas: 102\n",
      "📋 Primeras 3 empresas:\n",
      "   1. Guruwalk - Free tours - 4,9 (0 reseñas)\n",
      "   2. Dayuse.es - 4,9 (0 reseñas)\n",
      "   3. Bookaris.com - 4,9 (0 reseñas)\n",
      "\n",
      "📋 Total de empresas a procesar: 70\n",
      "   • Páginas de reseñas por empresa: 1\n"
     ]
    },
    {
     "name": "stderr",
     "output_type": "stream",
     "text": [
      "Procesando empresas:   0%|          | 0/70 [00:00<?, ?it/s]"
     ]
    },
    {
     "name": "stdout",
     "output_type": "stream",
     "text": [
      "\n",
      "[1/70] 🏢 Procesando: Guruwalk - Free tours\n",
      "   📄 Página 1 de reseñas: https://es.trustpilot.com/review/guruwalk.com\n",
      "   ✅ Página 1: 20 reseñas extraídas\n",
      "📊 Total: 20 reseñas extraídas de Guruwalk - Free tours\n"
     ]
    },
    {
     "name": "stderr",
     "output_type": "stream",
     "text": [
      "Procesando empresas:   1%|▏         | 1/70 [00:08<09:51,  8.57s/it]"
     ]
    },
    {
     "name": "stdout",
     "output_type": "stream",
     "text": [
      "\n",
      "[2/70] 🏢 Procesando: Dayuse.es\n",
      "   📄 Página 1 de reseñas: https://es.trustpilot.com/review/dayuse.es\n",
      "   ✅ Página 1: 20 reseñas extraídas\n",
      "📊 Total: 20 reseñas extraídas de Dayuse.es\n"
     ]
    },
    {
     "name": "stderr",
     "output_type": "stream",
     "text": [
      "Procesando empresas:   3%|▎         | 2/70 [00:20<12:09, 10.72s/it]"
     ]
    },
    {
     "name": "stdout",
     "output_type": "stream",
     "text": [
      "\n",
      "[3/70] 🏢 Procesando: Bookaris.com\n",
      "   📄 Página 1 de reseñas: https://es.trustpilot.com/review/bookaris.com\n",
      "   ✅ Página 1: 20 reseñas extraídas\n",
      "📊 Total: 20 reseñas extraídas de Bookaris.com\n"
     ]
    },
    {
     "name": "stderr",
     "output_type": "stream",
     "text": [
      "Procesando empresas:   4%|▍         | 3/70 [00:29<11:06,  9.94s/it]"
     ]
    },
    {
     "name": "stdout",
     "output_type": "stream",
     "text": [
      "\n",
      "[4/70] 🏢 Procesando: Descubriendo Japon\n",
      "   📄 Página 1 de reseñas: https://es.trustpilot.com/review/descubriendojapon.com\n",
      "   ✅ Página 1: 20 reseñas extraídas\n",
      "📊 Total: 20 reseñas extraídas de Descubriendo Japon\n"
     ]
    },
    {
     "name": "stderr",
     "output_type": "stream",
     "text": [
      "Procesando empresas:   6%|▌         | 4/70 [00:39<10:44,  9.77s/it]"
     ]
    },
    {
     "name": "stdout",
     "output_type": "stream",
     "text": [
      "\n",
      "[5/70] 🏢 Procesando: DMA Yachting\n",
      "   📄 Página 1 de reseñas: https://es.trustpilot.com/review/dmayachting.com\n",
      "   ✅ Página 1: 20 reseñas extraídas\n",
      "📊 Total: 20 reseñas extraídas de DMA Yachting\n"
     ]
    },
    {
     "name": "stderr",
     "output_type": "stream",
     "text": [
      "Procesando empresas:   7%|▋         | 5/70 [00:48<10:23,  9.59s/it]"
     ]
    },
    {
     "name": "stdout",
     "output_type": "stream",
     "text": [
      "\n",
      "[6/70] 🏢 Procesando: Guía Low Cost\n",
      "   📄 Página 1 de reseñas: https://es.trustpilot.com/review/guialowcost.es\n",
      "   ✅ Página 1: 20 reseñas extraídas\n",
      "📊 Total: 20 reseñas extraídas de Guía Low Cost\n"
     ]
    },
    {
     "name": "stderr",
     "output_type": "stream",
     "text": [
      "Procesando empresas:   9%|▊         | 6/70 [00:57<10:03,  9.42s/it]"
     ]
    },
    {
     "name": "stdout",
     "output_type": "stream",
     "text": [
      "\n",
      "[7/70] 🏢 Procesando: Sunpool Villas\n",
      "   📄 Página 1 de reseñas: https://es.trustpilot.com/review/sunpool.co.uk\n",
      "   ✅ Página 1: 5 reseñas extraídas\n",
      "   🏁 No hay más páginas de reseñas\n",
      "📊 Total: 5 reseñas extraídas de Sunpool Villas\n"
     ]
    },
    {
     "name": "stderr",
     "output_type": "stream",
     "text": [
      "Procesando empresas:  10%|█         | 7/70 [01:06<09:48,  9.35s/it]"
     ]
    },
    {
     "name": "stdout",
     "output_type": "stream",
     "text": [
      "\n",
      "[8/70] 🏢 Procesando: Online Tours\n",
      "   📄 Página 1 de reseñas: https://es.trustpilot.com/review/onlinetours.es\n",
      "   ✅ Página 1: 20 reseñas extraídas\n",
      "📊 Total: 20 reseñas extraídas de Online Tours\n"
     ]
    },
    {
     "name": "stderr",
     "output_type": "stream",
     "text": [
      "Procesando empresas:  11%|█▏        | 8/70 [01:33<15:18, 14.82s/it]"
     ]
    },
    {
     "name": "stdout",
     "output_type": "stream",
     "text": [
      "\n",
      "[9/70] 🏢 Procesando: Cruceros SoloCruceros.com\n",
      "   📄 Página 1 de reseñas: https://es.trustpilot.com/review/solocruceros.com\n",
      "   ✅ Página 1: 20 reseñas extraídas\n",
      "📊 Total: 20 reseñas extraídas de Cruceros SoloCruceros.com\n"
     ]
    },
    {
     "name": "stderr",
     "output_type": "stream",
     "text": [
      "Procesando empresas:  13%|█▎        | 9/70 [01:44<14:02, 13.81s/it]"
     ]
    },
    {
     "name": "stdout",
     "output_type": "stream",
     "text": [
      "\n",
      "[10/70] 🏢 Procesando: La Cubana Conecta\n",
      "   📄 Página 1 de reseñas: https://es.trustpilot.com/review/lacubanaconecta.com\n",
      "   ✅ Página 1: 20 reseñas extraídas\n",
      "📊 Total: 20 reseñas extraídas de La Cubana Conecta\n"
     ]
    },
    {
     "name": "stderr",
     "output_type": "stream",
     "text": [
      "Procesando empresas:  14%|█▍        | 10/70 [01:54<12:34, 12.57s/it]"
     ]
    },
    {
     "name": "stdout",
     "output_type": "stream",
     "text": [
      "\n",
      "[11/70] 🏢 Procesando: Evaneos\n",
      "   📄 Página 1 de reseñas: https://es.trustpilot.com/review/evaneos.es\n",
      "   ✅ Página 1: 20 reseñas extraídas\n",
      "📊 Total: 20 reseñas extraídas de Evaneos\n"
     ]
    },
    {
     "name": "stderr",
     "output_type": "stream",
     "text": [
      "Procesando empresas:  16%|█▌        | 11/70 [02:07<12:23, 12.60s/it]"
     ]
    },
    {
     "name": "stdout",
     "output_type": "stream",
     "text": [
      "\n",
      "[12/70] 🏢 Procesando: Santiago Ways\n",
      "   📄 Página 1 de reseñas: https://es.trustpilot.com/review/santiagoways.com\n",
      "   ✅ Página 1: 20 reseñas extraídas\n",
      "📊 Total: 20 reseñas extraídas de Santiago Ways\n"
     ]
    },
    {
     "name": "stderr",
     "output_type": "stream",
     "text": [
      "Procesando empresas:  17%|█▋        | 12/70 [02:17<11:22, 11.77s/it]"
     ]
    },
    {
     "name": "stdout",
     "output_type": "stream",
     "text": [
      "\n",
      "[13/70] 🏢 Procesando: Viajes BIDtravel\n",
      "   📄 Página 1 de reseñas: https://es.trustpilot.com/review/www.bidtravel.es\n",
      "   ✅ Página 1: 20 reseñas extraídas\n",
      "📊 Total: 20 reseñas extraídas de Viajes BIDtravel\n"
     ]
    },
    {
     "name": "stderr",
     "output_type": "stream",
     "text": [
      "Procesando empresas:  19%|█▊        | 13/70 [02:43<15:24, 16.22s/it]"
     ]
    },
    {
     "name": "stdout",
     "output_type": "stream",
     "text": [
      "\n",
      "[14/70] 🏢 Procesando: Sildavia Viajes\n",
      "   📄 Página 1 de reseñas: https://es.trustpilot.com/review/sildaviaviajes.com\n",
      "   ✅ Página 1: 20 reseñas extraídas\n",
      "📊 Total: 20 reseñas extraídas de Sildavia Viajes\n"
     ]
    },
    {
     "name": "stderr",
     "output_type": "stream",
     "text": [
      "Procesando empresas:  20%|██        | 14/70 [03:08<17:31, 18.77s/it]"
     ]
    },
    {
     "name": "stdout",
     "output_type": "stream",
     "text": [
      "\n",
      "[15/70] 🏢 Procesando: Golfinfo.com\n",
      "   📄 Página 1 de reseñas: https://es.trustpilot.com/review/golfinfo.com\n",
      "   ✅ Página 1: 20 reseñas extraídas\n",
      "📊 Total: 20 reseñas extraídas de Golfinfo.com\n"
     ]
    },
    {
     "name": "stderr",
     "output_type": "stream",
     "text": [
      "Procesando empresas:  21%|██▏       | 15/70 [03:17<14:25, 15.73s/it]"
     ]
    },
    {
     "name": "stdout",
     "output_type": "stream",
     "text": [
      "\n",
      "[16/70] 🏢 Procesando: GO Voyages\n",
      "   📄 Página 1 de reseñas: https://es.trustpilot.com/review/www.govoyages.com\n",
      "   ✅ Página 1: 20 reseñas extraídas\n",
      "📊 Total: 20 reseñas extraídas de GO Voyages\n"
     ]
    },
    {
     "name": "stderr",
     "output_type": "stream",
     "text": [
      "Procesando empresas:  23%|██▎       | 16/70 [04:00<21:40, 24.07s/it]"
     ]
    },
    {
     "name": "stdout",
     "output_type": "stream",
     "text": [
      "\n",
      "[17/70] 🏢 Procesando: Buendía\n",
      "   📄 Página 1 de reseñas: https://es.trustpilot.com/review/buendiatours.com\n",
      "   ✅ Página 1: 20 reseñas extraídas\n",
      "📊 Total: 20 reseñas extraídas de Buendía\n"
     ]
    },
    {
     "name": "stderr",
     "output_type": "stream",
     "text": [
      "Procesando empresas:  24%|██▍       | 17/70 [04:11<17:41, 20.03s/it]"
     ]
    },
    {
     "name": "stdout",
     "output_type": "stream",
     "text": [
      "\n",
      "[18/70] 🏢 Procesando: Buscounchollo.com\n",
      "   📄 Página 1 de reseñas: https://es.trustpilot.com/review/buscounchollo.com\n",
      "   ✅ Página 1: 20 reseñas extraídas\n",
      "📊 Total: 20 reseñas extraídas de Buscounchollo.com\n"
     ]
    },
    {
     "name": "stderr",
     "output_type": "stream",
     "text": [
      "Procesando empresas:  26%|██▌       | 18/70 [04:20<14:25, 16.65s/it]"
     ]
    },
    {
     "name": "stdout",
     "output_type": "stream",
     "text": [
      "\n",
      "[19/70] 🏢 Procesando: Ruralidays.com\n",
      "   📄 Página 1 de reseñas: https://es.trustpilot.com/review/ruralidays.com\n",
      "   ✅ Página 1: 20 reseñas extraídas\n",
      "📊 Total: 20 reseñas extraídas de Ruralidays.com\n"
     ]
    },
    {
     "name": "stderr",
     "output_type": "stream",
     "text": [
      "Procesando empresas:  27%|██▋       | 19/70 [04:30<12:30, 14.72s/it]"
     ]
    },
    {
     "name": "stdout",
     "output_type": "stream",
     "text": [
      "\n",
      "[20/70] 🏢 Procesando: Amenitiz\n",
      "   📄 Página 1 de reseñas: https://es.trustpilot.com/review/amenitiz.com\n",
      "   ✅ Página 1: 20 reseñas extraídas\n",
      "📊 Total: 20 reseñas extraídas de Amenitiz\n"
     ]
    },
    {
     "name": "stderr",
     "output_type": "stream",
     "text": [
      "Procesando empresas:  29%|██▊       | 20/70 [04:41<11:25, 13.71s/it]"
     ]
    },
    {
     "name": "stdout",
     "output_type": "stream",
     "text": [
      "\n",
      "[21/70] 🏢 Procesando: eDreams\n",
      "   📄 Página 1 de reseñas: https://es.trustpilot.com/review/www.edreams.com\n",
      "   ✅ Página 1: 20 reseñas extraídas\n",
      "📊 Total: 20 reseñas extraídas de eDreams\n"
     ]
    },
    {
     "name": "stderr",
     "output_type": "stream",
     "text": [
      "Procesando empresas:  30%|███       | 21/70 [04:53<10:43, 13.14s/it]"
     ]
    },
    {
     "name": "stdout",
     "output_type": "stream",
     "text": [
      "\n",
      "[22/70] 🏢 Procesando: Wiber Rent a Car\n",
      "   📄 Página 1 de reseñas: https://es.trustpilot.com/review/wiberrentacar.com\n",
      "   ✅ Página 1: 20 reseñas extraídas\n",
      "📊 Total: 20 reseñas extraídas de Wiber Rent a Car\n"
     ]
    },
    {
     "name": "stderr",
     "output_type": "stream",
     "text": [
      "Procesando empresas:  31%|███▏      | 22/70 [05:06<10:24, 13.02s/it]"
     ]
    },
    {
     "name": "stdout",
     "output_type": "stream",
     "text": [
      "\n",
      "[23/70] 🏢 Procesando: Opodo\n",
      "   📄 Página 1 de reseñas: https://es.trustpilot.com/review/www.opodo.com\n",
      "   ✅ Página 1: 20 reseñas extraídas\n",
      "📊 Total: 20 reseñas extraídas de Opodo\n"
     ]
    },
    {
     "name": "stderr",
     "output_type": "stream",
     "text": [
      "Procesando empresas:  33%|███▎      | 23/70 [05:16<09:35, 12.24s/it]"
     ]
    },
    {
     "name": "stdout",
     "output_type": "stream",
     "text": [
      "\n",
      "[24/70] 🏢 Procesando: Volotea\n",
      "   📄 Página 1 de reseñas: https://es.trustpilot.com/review/volotea.com\n",
      "   ✅ Página 1: 20 reseñas extraídas\n",
      "📊 Total: 20 reseñas extraídas de Volotea\n"
     ]
    },
    {
     "name": "stderr",
     "output_type": "stream",
     "text": [
      "Procesando empresas:  34%|███▍      | 24/70 [05:27<09:02, 11.80s/it]"
     ]
    },
    {
     "name": "stdout",
     "output_type": "stream",
     "text": [
      "\n",
      "[25/70] 🏢 Procesando: Central de Reservas\n",
      "   📄 Página 1 de reseñas: https://es.trustpilot.com/review/www.centraldereservas.com\n",
      "   ✅ Página 1: 20 reseñas extraídas\n",
      "📊 Total: 20 reseñas extraídas de Central de Reservas\n"
     ]
    },
    {
     "name": "stderr",
     "output_type": "stream",
     "text": [
      "Procesando empresas:  36%|███▌      | 25/70 [05:36<08:21, 11.13s/it]"
     ]
    },
    {
     "name": "stdout",
     "output_type": "stream",
     "text": [
      "\n",
      "[26/70] 🏢 Procesando: Stayforlong\n",
      "   📄 Página 1 de reseñas: https://es.trustpilot.com/review/stayforlong.com\n",
      "   ✅ Página 1: 20 reseñas extraídas\n",
      "📊 Total: 20 reseñas extraídas de Stayforlong\n"
     ]
    },
    {
     "name": "stderr",
     "output_type": "stream",
     "text": [
      "Procesando empresas:  37%|███▋      | 26/70 [05:47<08:07, 11.07s/it]"
     ]
    },
    {
     "name": "stdout",
     "output_type": "stream",
     "text": [
      "\n",
      "[27/70] 🏢 Procesando: WeRoad España - Viajes en grupo\n",
      "   📄 Página 1 de reseñas: https://es.trustpilot.com/review/www.weroad.es\n",
      "   ✅ Página 1: 20 reseñas extraídas\n",
      "📊 Total: 20 reseñas extraídas de WeRoad España - Viajes en grupo\n"
     ]
    },
    {
     "name": "stderr",
     "output_type": "stream",
     "text": [
      "Procesando empresas:  39%|███▊      | 27/70 [06:37<16:18, 22.77s/it]"
     ]
    },
    {
     "name": "stdout",
     "output_type": "stream",
     "text": [
      "\n",
      "[28/70] 🏢 Procesando: Viajes Camino de Santiago\n",
      "   📄 Página 1 de reseñas: https://es.trustpilot.com/review/viajecaminodesantiago.com\n",
      "   ✅ Página 1: 20 reseñas extraídas\n",
      "📊 Total: 20 reseñas extraídas de Viajes Camino de Santiago\n"
     ]
    },
    {
     "name": "stderr",
     "output_type": "stream",
     "text": [
      "Procesando empresas:  40%|████      | 28/70 [07:19<19:50, 28.34s/it]"
     ]
    },
    {
     "name": "stdout",
     "output_type": "stream",
     "text": [
      "\n",
      "[29/70] 🏢 Procesando: LOCK & enjoy! Luggage Storage\n",
      "   📄 Página 1 de reseñas: https://es.trustpilot.com/review/lockandenjoy.com\n",
      "   ✅ Página 1: 20 reseñas extraídas\n",
      "📊 Total: 20 reseñas extraídas de LOCK & enjoy! Luggage Storage\n"
     ]
    },
    {
     "name": "stderr",
     "output_type": "stream",
     "text": [
      "Procesando empresas:  41%|████▏     | 29/70 [07:26<15:07, 22.14s/it]"
     ]
    },
    {
     "name": "stdout",
     "output_type": "stream",
     "text": [
      "\n",
      "[30/70] 🏢 Procesando: Tubuencamino\n",
      "   📄 Página 1 de reseñas: https://es.trustpilot.com/review/tubuencamino.com\n",
      "   ✅ Página 1: 20 reseñas extraídas\n",
      "📊 Total: 20 reseñas extraídas de Tubuencamino\n"
     ]
    },
    {
     "name": "stderr",
     "output_type": "stream",
     "text": [
      "Procesando empresas:  43%|████▎     | 30/70 [07:35<12:07, 18.19s/it]"
     ]
    },
    {
     "name": "stdout",
     "output_type": "stream",
     "text": [
      "\n",
      "[31/70] 🏢 Procesando: Jump\n",
      "   📄 Página 1 de reseñas: https://es.trustpilot.com/review/jump2spain.com\n",
      "   ✅ Página 1: 1 reseñas extraídas\n",
      "   🏁 No hay más páginas de reseñas\n",
      "📊 Total: 1 reseñas extraídas de Jump\n"
     ]
    },
    {
     "name": "stderr",
     "output_type": "stream",
     "text": [
      "Procesando empresas:  44%|████▍     | 31/70 [07:44<09:59, 15.38s/it]"
     ]
    },
    {
     "name": "stdout",
     "output_type": "stream",
     "text": [
      "\n",
      "[32/70] 🏢 Procesando: TRASLADOS AEROPUERTO MADRID\n",
      "   📄 Página 1 de reseñas: https://es.trustpilot.com/review/trasladosaeropuertomadrid.com\n",
      "   ✅ Página 1: 20 reseñas extraídas\n",
      "📊 Total: 20 reseñas extraídas de TRASLADOS AEROPUERTO MADRID\n"
     ]
    },
    {
     "name": "stderr",
     "output_type": "stream",
     "text": [
      "Procesando empresas:  46%|████▌     | 32/70 [07:53<08:27, 13.35s/it]"
     ]
    },
    {
     "name": "stdout",
     "output_type": "stream",
     "text": [
      "\n",
      "[33/70] 🏢 Procesando: Scuba Finders\n",
      "   📄 Página 1 de reseñas: https://es.trustpilot.com/review/scubafinders.com\n",
      "   ✅ Página 1: 20 reseñas extraídas\n",
      "📊 Total: 20 reseñas extraídas de Scuba Finders\n"
     ]
    },
    {
     "name": "stderr",
     "output_type": "stream",
     "text": [
      "Procesando empresas:  47%|████▋     | 33/70 [08:04<07:45, 12.57s/it]"
     ]
    },
    {
     "name": "stdout",
     "output_type": "stream",
     "text": [
      "\n",
      "[34/70] 🏢 Procesando: Estiber.com\n",
      "   📄 Página 1 de reseñas: https://es.trustpilot.com/review/estiber.com\n",
      "   ✅ Página 1: 20 reseñas extraídas\n",
      "📊 Total: 20 reseñas extraídas de Estiber.com\n"
     ]
    },
    {
     "name": "stderr",
     "output_type": "stream",
     "text": [
      "Procesando empresas:  49%|████▊     | 34/70 [08:15<07:22, 12.29s/it]"
     ]
    },
    {
     "name": "stdout",
     "output_type": "stream",
     "text": [
      "\n",
      "[35/70] 🏢 Procesando: Holidu\n",
      "   📄 Página 1 de reseñas: https://es.trustpilot.com/review/holidu.es\n",
      "   ✅ Página 1: 20 reseñas extraídas\n",
      "📊 Total: 20 reseñas extraídas de Holidu\n"
     ]
    },
    {
     "name": "stderr",
     "output_type": "stream",
     "text": [
      "Procesando empresas:  50%|█████     | 35/70 [08:24<06:35, 11.31s/it]"
     ]
    },
    {
     "name": "stdout",
     "output_type": "stream",
     "text": [
      "\n",
      "[36/70] 🏢 Procesando: Waynabox - Surprise Trips\n",
      "   📄 Página 1 de reseñas: https://es.trustpilot.com/review/waynabox.com\n",
      "   ✅ Página 1: 20 reseñas extraídas\n",
      "📊 Total: 20 reseñas extraídas de Waynabox - Surprise Trips\n"
     ]
    },
    {
     "name": "stderr",
     "output_type": "stream",
     "text": [
      "Procesando empresas:  51%|█████▏    | 36/70 [08:35<06:16, 11.08s/it]"
     ]
    },
    {
     "name": "stdout",
     "output_type": "stream",
     "text": [
      "\n",
      "[37/70] 🏢 Procesando: Vacation Marbella\n",
      "   📄 Página 1 de reseñas: https://es.trustpilot.com/review/vacationmarbella.com\n",
      "   ✅ Página 1: 20 reseñas extraídas\n",
      "📊 Total: 20 reseñas extraídas de Vacation Marbella\n"
     ]
    },
    {
     "name": "stderr",
     "output_type": "stream",
     "text": [
      "Procesando empresas:  53%|█████▎    | 37/70 [08:48<06:30, 11.84s/it]"
     ]
    },
    {
     "name": "stdout",
     "output_type": "stream",
     "text": [
      "\n",
      "[38/70] 🏢 Procesando: Antia Viajes\n",
      "   📄 Página 1 de reseñas: https://es.trustpilot.com/review/antiaviajes.com\n",
      "   ✅ Página 1: 20 reseñas extraídas\n",
      "📊 Total: 20 reseñas extraídas de Antia Viajes\n"
     ]
    },
    {
     "name": "stderr",
     "output_type": "stream",
     "text": [
      "Procesando empresas:  54%|█████▍    | 38/70 [09:01<06:24, 12.02s/it]"
     ]
    },
    {
     "name": "stdout",
     "output_type": "stream",
     "text": [
      "\n",
      "[39/70] 🏢 Procesando: Orbis Ways\n",
      "   📄 Página 1 de reseñas: https://es.trustpilot.com/review/orbisways.com\n",
      "   ✅ Página 1: 20 reseñas extraídas\n",
      "📊 Total: 20 reseñas extraídas de Orbis Ways\n"
     ]
    },
    {
     "name": "stderr",
     "output_type": "stream",
     "text": [
      "Procesando empresas:  56%|█████▌    | 39/70 [09:11<05:56, 11.50s/it]"
     ]
    },
    {
     "name": "stdout",
     "output_type": "stream",
     "text": [
      "\n",
      "[40/70] 🏢 Procesando: Maestro Casas\n",
      "   📄 Página 1 de reseñas: https://es.trustpilot.com/review/maestrocasas.es\n",
      "   ✅ Página 1: 20 reseñas extraídas\n",
      "📊 Total: 20 reseñas extraídas de Maestro Casas\n"
     ]
    },
    {
     "name": "stderr",
     "output_type": "stream",
     "text": [
      "Procesando empresas:  57%|█████▋    | 40/70 [09:21<05:33, 11.12s/it]"
     ]
    },
    {
     "name": "stdout",
     "output_type": "stream",
     "text": [
      "\n",
      "[41/70] 🏢 Procesando: Civitatis\n",
      "   📄 Página 1 de reseñas: https://es.trustpilot.com/review/civitatis.com\n",
      "   ✅ Página 1: 20 reseñas extraídas\n",
      "📊 Total: 20 reseñas extraídas de Civitatis\n"
     ]
    },
    {
     "name": "stderr",
     "output_type": "stream",
     "text": [
      "Procesando empresas:  59%|█████▊    | 41/70 [09:31<05:10, 10.72s/it]"
     ]
    },
    {
     "name": "stdout",
     "output_type": "stream",
     "text": [
      "\n",
      "[42/70] 🏢 Procesando: Hotel Treats\n",
      "   📄 Página 1 de reseñas: https://es.trustpilot.com/review/hoteltreats.com\n",
      "   ✅ Página 1: 20 reseñas extraídas\n",
      "📊 Total: 20 reseñas extraídas de Hotel Treats\n"
     ]
    },
    {
     "name": "stderr",
     "output_type": "stream",
     "text": [
      "Procesando empresas:  60%|██████    | 42/70 [09:43<05:06, 10.96s/it]"
     ]
    },
    {
     "name": "stdout",
     "output_type": "stream",
     "text": [
      "\n",
      "[43/70] 🏢 Procesando: Arctic Yeti\n",
      "   📄 Página 1 de reseñas: https://es.trustpilot.com/review/arcticyeti.es\n",
      "   ✅ Página 1: 20 reseñas extraídas\n",
      "📊 Total: 20 reseñas extraídas de Arctic Yeti\n"
     ]
    },
    {
     "name": "stderr",
     "output_type": "stream",
     "text": [
      "Procesando empresas:  61%|██████▏   | 43/70 [09:52<04:41, 10.43s/it]"
     ]
    },
    {
     "name": "stdout",
     "output_type": "stream",
     "text": [
      "\n",
      "[44/70] 🏢 Procesando: SOLTEROS VIAJEROS\n",
      "   📄 Página 1 de reseñas: https://es.trustpilot.com/review/solterosviajeros.com\n",
      "   ✅ Página 1: 20 reseñas extraídas\n",
      "📊 Total: 20 reseñas extraídas de SOLTEROS VIAJEROS\n"
     ]
    },
    {
     "name": "stderr",
     "output_type": "stream",
     "text": [
      "Procesando empresas:  63%|██████▎   | 44/70 [10:01<04:23, 10.14s/it]"
     ]
    },
    {
     "name": "stdout",
     "output_type": "stream",
     "text": [
      "\n",
      "[45/70] 🏢 Procesando: Lanzarote Airport Transfers\n",
      "   📄 Página 1 de reseñas: https://es.trustpilot.com/review/lanzaroteairporttransfers.co.uk\n",
      "   ✅ Página 1: 20 reseñas extraídas\n",
      "📊 Total: 20 reseñas extraídas de Lanzarote Airport Transfers\n"
     ]
    },
    {
     "name": "stderr",
     "output_type": "stream",
     "text": [
      "Procesando empresas:  64%|██████▍   | 45/70 [10:12<04:18, 10.32s/it]"
     ]
    },
    {
     "name": "stdout",
     "output_type": "stream",
     "text": [
      "\n",
      "[46/70] 🏢 Procesando: Exoticca\n",
      "   📄 Página 1 de reseñas: https://es.trustpilot.com/review/exoticca.com\n",
      "   ✅ Página 1: 20 reseñas extraídas\n",
      "📊 Total: 20 reseñas extraídas de Exoticca\n"
     ]
    },
    {
     "name": "stderr",
     "output_type": "stream",
     "text": [
      "Procesando empresas:  66%|██████▌   | 46/70 [10:22<04:08, 10.35s/it]"
     ]
    },
    {
     "name": "stdout",
     "output_type": "stream",
     "text": [
      "\n",
      "[47/70] 🏢 Procesando: Homerti\n",
      "   📄 Página 1 de reseñas: https://es.trustpilot.com/review/www.homerti.com\n",
      "   ✅ Página 1: 20 reseñas extraídas\n",
      "📊 Total: 20 reseñas extraídas de Homerti\n"
     ]
    },
    {
     "name": "stderr",
     "output_type": "stream",
     "text": [
      "Procesando empresas:  67%|██████▋   | 47/70 [10:32<03:51, 10.08s/it]"
     ]
    },
    {
     "name": "stdout",
     "output_type": "stream",
     "text": [
      "\n",
      "[48/70] 🏢 Procesando: Skyscanner\n",
      "   📄 Página 1 de reseñas: https://es.trustpilot.com/review/skyscanner.es\n",
      "   ✅ Página 1: 20 reseñas extraídas\n",
      "📊 Total: 20 reseñas extraídas de Skyscanner\n"
     ]
    },
    {
     "name": "stderr",
     "output_type": "stream",
     "text": [
      "Procesando empresas:  69%|██████▊   | 48/70 [10:43<03:45, 10.26s/it]"
     ]
    },
    {
     "name": "stdout",
     "output_type": "stream",
     "text": [
      "\n",
      "[49/70] 🏢 Procesando: Interhome\n",
      "   📄 Página 1 de reseñas: https://es.trustpilot.com/review/www.interhome.es\n",
      "   ✅ Página 1: 20 reseñas extraídas\n",
      "📊 Total: 20 reseñas extraídas de Interhome\n"
     ]
    },
    {
     "name": "stderr",
     "output_type": "stream",
     "text": [
      "Procesando empresas:  70%|███████   | 49/70 [10:53<03:35, 10.27s/it]"
     ]
    },
    {
     "name": "stdout",
     "output_type": "stream",
     "text": [
      "\n",
      "[50/70] 🏢 Procesando: Gudog\n",
      "   📄 Página 1 de reseñas: https://es.trustpilot.com/review/gudog.com\n",
      "   ✅ Página 1: 20 reseñas extraídas\n",
      "📊 Total: 20 reseñas extraídas de Gudog\n"
     ]
    },
    {
     "name": "stderr",
     "output_type": "stream",
     "text": [
      "Procesando empresas:  71%|███████▏  | 50/70 [11:04<03:30, 10.55s/it]"
     ]
    },
    {
     "name": "stdout",
     "output_type": "stream",
     "text": [
      "\n",
      "[51/70] 🏢 Procesando: Vacalia\n",
      "   📄 Página 1 de reseñas: https://es.trustpilot.com/review/vacalia.com\n",
      "   ✅ Página 1: 20 reseñas extraídas\n",
      "📊 Total: 20 reseñas extraídas de Vacalia\n"
     ]
    },
    {
     "name": "stderr",
     "output_type": "stream",
     "text": [
      "Procesando empresas:  73%|███████▎  | 51/70 [11:15<03:21, 10.58s/it]"
     ]
    },
    {
     "name": "stdout",
     "output_type": "stream",
     "text": [
      "\n",
      "[52/70] 🏢 Procesando: Howlanders\n",
      "   📄 Página 1 de reseñas: https://es.trustpilot.com/review/howlanders.com\n",
      "   ✅ Página 1: 20 reseñas extraídas\n",
      "📊 Total: 20 reseñas extraídas de Howlanders\n"
     ]
    },
    {
     "name": "stderr",
     "output_type": "stream",
     "text": [
      "Procesando empresas:  74%|███████▍  | 52/70 [11:31<03:40, 12.27s/it]"
     ]
    },
    {
     "name": "stdout",
     "output_type": "stream",
     "text": [
      "\n",
      "[53/70] 🏢 Procesando: Mistertransfer\n",
      "   📄 Página 1 de reseñas: https://es.trustpilot.com/review/mistertransfer.com\n",
      "   ✅ Página 1: 20 reseñas extraídas\n",
      "📊 Total: 20 reseñas extraídas de Mistertransfer\n"
     ]
    },
    {
     "name": "stderr",
     "output_type": "stream",
     "text": [
      "Procesando empresas:  76%|███████▌  | 53/70 [12:01<05:00, 17.66s/it]"
     ]
    },
    {
     "name": "stdout",
     "output_type": "stream",
     "text": [
      "\n",
      "[54/70] 🏢 Procesando: Shuttle Direct\n",
      "   📄 Página 1 de reseñas: https://es.trustpilot.com/review/www.shuttledirect.com\n",
      "   ✅ Página 1: 20 reseñas extraídas\n",
      "📊 Total: 20 reseñas extraídas de Shuttle Direct\n"
     ]
    },
    {
     "name": "stderr",
     "output_type": "stream",
     "text": [
      "Procesando empresas:  77%|███████▋  | 54/70 [12:10<03:58, 14.89s/it]"
     ]
    },
    {
     "name": "stdout",
     "output_type": "stream",
     "text": [
      "\n",
      "[55/70] 🏢 Procesando: Drimer\n",
      "   📄 Página 1 de reseñas: https://es.trustpilot.com/review/drimer.io\n",
      "   ✅ Página 1: 20 reseñas extraídas\n",
      "📊 Total: 20 reseñas extraídas de Drimer\n"
     ]
    },
    {
     "name": "stderr",
     "output_type": "stream",
     "text": [
      "Procesando empresas:  79%|███████▊  | 55/70 [12:21<03:26, 13.77s/it]"
     ]
    },
    {
     "name": "stdout",
     "output_type": "stream",
     "text": [
      "\n",
      "[56/70] 🏢 Procesando: Sea Riders Badalona\n",
      "   📄 Página 1 de reseñas: https://es.trustpilot.com/review/seariders.es\n",
      "   ✅ Página 1: 20 reseñas extraídas\n",
      "📊 Total: 20 reseñas extraídas de Sea Riders Badalona\n"
     ]
    },
    {
     "name": "stderr",
     "output_type": "stream",
     "text": [
      "Procesando empresas:  80%|████████  | 56/70 [12:32<03:01, 12.97s/it]"
     ]
    },
    {
     "name": "stdout",
     "output_type": "stream",
     "text": [
      "\n",
      "[57/70] 🏢 Procesando: Rentalmotorbike\n",
      "   📄 Página 1 de reseñas: https://es.trustpilot.com/review/rentalmotorbike.com\n",
      "   ✅ Página 1: 20 reseñas extraídas\n",
      "📊 Total: 20 reseñas extraídas de Rentalmotorbike\n"
     ]
    },
    {
     "name": "stderr",
     "output_type": "stream",
     "text": [
      "Procesando empresas:  81%|████████▏ | 57/70 [12:45<02:47, 12.91s/it]"
     ]
    },
    {
     "name": "stdout",
     "output_type": "stream",
     "text": [
      "\n",
      "[58/70] 🏢 Procesando: Uniite Travel\n",
      "   📄 Página 1 de reseñas: https://es.trustpilot.com/review/uniitetravel.com\n",
      "   ✅ Página 1: 20 reseñas extraídas\n",
      "📊 Total: 20 reseñas extraídas de Uniite Travel\n"
     ]
    },
    {
     "name": "stderr",
     "output_type": "stream",
     "text": [
      "Procesando empresas:  83%|████████▎ | 58/70 [12:54<02:23, 11.97s/it]"
     ]
    },
    {
     "name": "stdout",
     "output_type": "stream",
     "text": [
      "\n",
      "[59/70] 🏢 Procesando: rumbo.es\n",
      "   📄 Página 1 de reseñas: https://es.trustpilot.com/review/www.rumbo.es\n",
      "   ✅ Página 1: 20 reseñas extraídas\n",
      "📊 Total: 20 reseñas extraídas de rumbo.es\n"
     ]
    },
    {
     "name": "stderr",
     "output_type": "stream",
     "text": [
      "Procesando empresas:  84%|████████▍ | 59/70 [13:03<02:02, 11.10s/it]"
     ]
    },
    {
     "name": "stdout",
     "output_type": "stream",
     "text": [
      "\n",
      "[60/70] 🏢 Procesando: BudgetAir.es\n",
      "   📄 Página 1 de reseñas: https://es.trustpilot.com/review/budgetair.es\n",
      "   ✅ Página 1: 20 reseñas extraídas\n",
      "📊 Total: 20 reseñas extraídas de BudgetAir.es\n"
     ]
    },
    {
     "name": "stderr",
     "output_type": "stream",
     "text": [
      "Procesando empresas:  86%|████████▌ | 60/70 [13:14<01:49, 10.93s/it]"
     ]
    },
    {
     "name": "stdout",
     "output_type": "stream",
     "text": [
      "\n",
      "[61/70] 🏢 Procesando: Outspot\n",
      "   📄 Página 1 de reseñas: https://es.trustpilot.com/review/outspot.es\n",
      "   ✅ Página 1: 20 reseñas extraídas\n",
      "📊 Total: 20 reseñas extraídas de Outspot\n"
     ]
    },
    {
     "name": "stderr",
     "output_type": "stream",
     "text": [
      "Procesando empresas:  87%|████████▋ | 61/70 [13:24<01:35, 10.59s/it]"
     ]
    },
    {
     "name": "stdout",
     "output_type": "stream",
     "text": [
      "\n",
      "[62/70] 🏢 Procesando: cubarentcars.com cubarentcars.com\n",
      "   📄 Página 1 de reseñas: https://es.trustpilot.com/review/cubarentcars.com\n",
      "   ✅ Página 1: 20 reseñas extraídas\n",
      "📊 Total: 20 reseñas extraídas de cubarentcars.com cubarentcars.com\n"
     ]
    },
    {
     "name": "stderr",
     "output_type": "stream",
     "text": [
      "Procesando empresas:  89%|████████▊ | 62/70 [13:34<01:23, 10.48s/it]"
     ]
    },
    {
     "name": "stdout",
     "output_type": "stream",
     "text": [
      "\n",
      "[63/70] 🏢 Procesando: Gobycar\n",
      "   📄 Página 1 de reseñas: https://es.trustpilot.com/review/www.gobycar.com\n",
      "   ✅ Página 1: 20 reseñas extraídas\n",
      "📊 Total: 20 reseñas extraídas de Gobycar\n"
     ]
    },
    {
     "name": "stderr",
     "output_type": "stream",
     "text": [
      "Procesando empresas:  90%|█████████ | 63/70 [13:44<01:12, 10.39s/it]"
     ]
    },
    {
     "name": "stdout",
     "output_type": "stream",
     "text": [
      "\n",
      "[64/70] 🏢 Procesando: My City Home\n",
      "   📄 Página 1 de reseñas: https://es.trustpilot.com/review/mycityhome.es\n",
      "   ✅ Página 1: 20 reseñas extraídas\n",
      "📊 Total: 20 reseñas extraídas de My City Home\n"
     ]
    },
    {
     "name": "stderr",
     "output_type": "stream",
     "text": [
      "Procesando empresas:  91%|█████████▏| 64/70 [13:55<01:03, 10.63s/it]"
     ]
    },
    {
     "name": "stdout",
     "output_type": "stream",
     "text": [
      "\n",
      "[65/70] 🏢 Procesando: hotelbreak\n",
      "   📄 Página 1 de reseñas: https://es.trustpilot.com/review/hotelbreak.com\n",
      "   ✅ Página 1: 20 reseñas extraídas\n",
      "📊 Total: 20 reseñas extraídas de hotelbreak\n"
     ]
    },
    {
     "name": "stderr",
     "output_type": "stream",
     "text": [
      "Procesando empresas:  93%|█████████▎| 65/70 [14:07<00:54, 10.94s/it]"
     ]
    },
    {
     "name": "stdout",
     "output_type": "stream",
     "text": [
      "\n",
      "[66/70] 🏢 Procesando: Iberojet.com\n",
      "   📄 Página 1 de reseñas: https://es.trustpilot.com/review/iberojet.com\n",
      "   ✅ Página 1: 20 reseñas extraídas\n",
      "📊 Total: 20 reseñas extraídas de Iberojet.com\n"
     ]
    },
    {
     "name": "stderr",
     "output_type": "stream",
     "text": [
      "Procesando empresas:  94%|█████████▍| 66/70 [14:17<00:42, 10.56s/it]"
     ]
    },
    {
     "name": "stdout",
     "output_type": "stream",
     "text": [
      "\n",
      "[67/70] 🏢 Procesando: Chekin\n",
      "   📄 Página 1 de reseñas: https://es.trustpilot.com/review/chekin.com\n",
      "   ✅ Página 1: 20 reseñas extraídas\n",
      "📊 Total: 20 reseñas extraídas de Chekin\n"
     ]
    },
    {
     "name": "stderr",
     "output_type": "stream",
     "text": [
      "Procesando empresas:  96%|█████████▌| 67/70 [14:28<00:32, 10.67s/it]"
     ]
    },
    {
     "name": "stdout",
     "output_type": "stream",
     "text": [
      "\n",
      "[68/70] 🏢 Procesando: Immi-Assist.online\n",
      "   📄 Página 1 de reseñas: https://es.trustpilot.com/review/www.immi-assist.online\n",
      "   ✅ Página 1: 13 reseñas extraídas\n",
      "   🏁 No hay más páginas de reseñas\n",
      "📊 Total: 13 reseñas extraídas de Immi-Assist.online\n"
     ]
    },
    {
     "name": "stderr",
     "output_type": "stream",
     "text": [
      "Procesando empresas:  97%|█████████▋| 68/70 [14:39<00:21, 10.92s/it]"
     ]
    },
    {
     "name": "stdout",
     "output_type": "stream",
     "text": [
      "\n",
      "[69/70] 🏢 Procesando: Pilots Center\n",
      "   📄 Página 1 de reseñas: https://es.trustpilot.com/review/pilotscenter.com\n",
      "   ✅ Página 1: 20 reseñas extraídas\n",
      "📊 Total: 20 reseñas extraídas de Pilots Center\n"
     ]
    },
    {
     "name": "stderr",
     "output_type": "stream",
     "text": [
      "Procesando empresas:  99%|█████████▊| 69/70 [14:47<00:10, 10.01s/it]"
     ]
    },
    {
     "name": "stdout",
     "output_type": "stream",
     "text": [
      "\n",
      "[70/70] 🏢 Procesando: Arenatours\n",
      "   📄 Página 1 de reseñas: https://es.trustpilot.com/review/arenatours.com\n",
      "   ✅ Página 1: 20 reseñas extraídas\n",
      "📊 Total: 20 reseñas extraídas de Arenatours\n"
     ]
    },
    {
     "name": "stderr",
     "output_type": "stream",
     "text": [
      "Procesando empresas: 100%|██████████| 70/70 [14:57<00:00, 12.82s/it]\n"
     ]
    },
    {
     "name": "stdout",
     "output_type": "stream",
     "text": [
      "\n",
      "✅ Scraping completado!\n",
      "📊 Total de reseñas extraídas: 1359\n",
      "💾 Archivo guardado: trustpilot_travel_reviews_20250701_181108.csv\n",
      "\n",
      "📈 Estadísticas:\n",
      "   • Empresas únicas: 70\n",
      "   • Promedio de reseñas por empresa: 19.4\n",
      "   • Distribución de puntuaciones:\n",
      "     ⭐ 1: 158 reseñas (11.6%)\n",
      "     ⭐ 2: 33 reseñas (2.4%)\n",
      "     ⭐ 3: 40 reseñas (2.9%)\n",
      "     ⭐ 4: 133 reseñas (9.8%)\n",
      "     ⭐ 5: 995 reseñas (73.2%)\n",
      "\n",
      "🔚 Navegador cerrado.\n"
     ]
    }
   ],
   "source": [
    "# Ejecutar el scraper con configuración básica\n",
    "# NOTA: Ajusta los parámetros según tus necesidades\n",
    "df_results = scrape_trustpilot_travel(\n",
    "    max_companies=70,                    # Número de empresas a procesar\n",
    "    max_review_pages_per_company=1,     # Páginas de reseñas por empresa (cada página tiene ~20 reseñas)\n",
    "    max_company_pages=5                 # Páginas de la categoría a recorrer (cada página tiene ~10 empresas)\n",
    ")\n"
   ]
  },
  {
   "cell_type": "code",
   "execution_count": 12,
   "metadata": {},
   "outputs": [
    {
     "name": "stdout",
     "output_type": "stream",
     "text": [
      "📊 Resumen del dataset:\n",
      "Total de reseñas: 1359\n",
      "Empresas únicas: 70\n",
      "\n",
      "Distribución de puntuaciones:\n",
      "customer_score\n",
      "1    158\n",
      "2     33\n",
      "3     40\n",
      "4    133\n",
      "5    995\n",
      "Name: count, dtype: int64\n",
      "\n",
      "📋 Primeras 5 reseñas:\n"
     ]
    },
    {
     "data": {
      "text/html": [
       "<div>\n",
       "<style scoped>\n",
       "    .dataframe tbody tr th:only-of-type {\n",
       "        vertical-align: middle;\n",
       "    }\n",
       "\n",
       "    .dataframe tbody tr th {\n",
       "        vertical-align: top;\n",
       "    }\n",
       "\n",
       "    .dataframe thead th {\n",
       "        text-align: right;\n",
       "    }\n",
       "</style>\n",
       "<table border=\"1\" class=\"dataframe\">\n",
       "  <thead>\n",
       "    <tr style=\"text-align: right;\">\n",
       "      <th></th>\n",
       "      <th>review_id</th>\n",
       "      <th>domain</th>\n",
       "      <th>company_name</th>\n",
       "      <th>categories</th>\n",
       "      <th>company_rating</th>\n",
       "      <th>review_date</th>\n",
       "      <th>customer_name</th>\n",
       "      <th>customer_score</th>\n",
       "      <th>review_text</th>\n",
       "      <th>language</th>\n",
       "      <th>sentiment</th>\n",
       "      <th>emotion</th>\n",
       "      <th>customer_gender</th>\n",
       "      <th>main_topic</th>\n",
       "      <th>keywords</th>\n",
       "      <th>customer_type</th>\n",
       "      <th>tourist_type</th>\n",
       "      <th>group_type</th>\n",
       "      <th>analyzed</th>\n",
       "    </tr>\n",
       "  </thead>\n",
       "  <tbody>\n",
       "    <tr>\n",
       "      <th>0</th>\n",
       "      <td>1a7e7f41b5d6</td>\n",
       "      <td>guruwalk.com</td>\n",
       "      <td>Guruwalk - Free tours</td>\n",
       "      <td>travel_vacation</td>\n",
       "      <td>4,9</td>\n",
       "      <td>2025-07-01T23:39:24.000Z</td>\n",
       "      <td>Italo Constenla Carrillo</td>\n",
       "      <td>5</td>\n",
       "      <td>Marcelo un gran guía , una muy grata experienc...</td>\n",
       "      <td></td>\n",
       "      <td></td>\n",
       "      <td></td>\n",
       "      <td></td>\n",
       "      <td></td>\n",
       "      <td></td>\n",
       "      <td></td>\n",
       "      <td></td>\n",
       "      <td></td>\n",
       "      <td>False</td>\n",
       "    </tr>\n",
       "    <tr>\n",
       "      <th>1</th>\n",
       "      <td>f17c6e5f270f</td>\n",
       "      <td>guruwalk.com</td>\n",
       "      <td>Guruwalk - Free tours</td>\n",
       "      <td>travel_vacation</td>\n",
       "      <td>4,9</td>\n",
       "      <td>2025-07-01T23:21:03.000Z</td>\n",
       "      <td>Noelia Tannous</td>\n",
       "      <td>5</td>\n",
       "      <td>Laura Trovato ha sido una magnífica guía, muy ...</td>\n",
       "      <td></td>\n",
       "      <td></td>\n",
       "      <td></td>\n",
       "      <td></td>\n",
       "      <td></td>\n",
       "      <td></td>\n",
       "      <td></td>\n",
       "      <td></td>\n",
       "      <td></td>\n",
       "      <td>False</td>\n",
       "    </tr>\n",
       "    <tr>\n",
       "      <th>2</th>\n",
       "      <td>218f31094ed0</td>\n",
       "      <td>guruwalk.com</td>\n",
       "      <td>Guruwalk - Free tours</td>\n",
       "      <td>travel_vacation</td>\n",
       "      <td>4,9</td>\n",
       "      <td>2025-07-01T20:37:20.000Z</td>\n",
       "      <td>Cliente</td>\n",
       "      <td>5</td>\n",
       "      <td>Muy recomendable</td>\n",
       "      <td></td>\n",
       "      <td></td>\n",
       "      <td></td>\n",
       "      <td></td>\n",
       "      <td></td>\n",
       "      <td></td>\n",
       "      <td></td>\n",
       "      <td></td>\n",
       "      <td></td>\n",
       "      <td>False</td>\n",
       "    </tr>\n",
       "    <tr>\n",
       "      <th>3</th>\n",
       "      <td>105e9dfd9448</td>\n",
       "      <td>guruwalk.com</td>\n",
       "      <td>Guruwalk - Free tours</td>\n",
       "      <td>travel_vacation</td>\n",
       "      <td>4,9</td>\n",
       "      <td>2025-07-01T19:35:47.000Z</td>\n",
       "      <td>Manuel González</td>\n",
       "      <td>5</td>\n",
       "      <td>Muy buena plataforma para hacer tours por dife...</td>\n",
       "      <td></td>\n",
       "      <td></td>\n",
       "      <td></td>\n",
       "      <td></td>\n",
       "      <td></td>\n",
       "      <td></td>\n",
       "      <td></td>\n",
       "      <td></td>\n",
       "      <td></td>\n",
       "      <td>False</td>\n",
       "    </tr>\n",
       "    <tr>\n",
       "      <th>4</th>\n",
       "      <td>a77cd0af2ebc</td>\n",
       "      <td>guruwalk.com</td>\n",
       "      <td>Guruwalk - Free tours</td>\n",
       "      <td>travel_vacation</td>\n",
       "      <td>4,9</td>\n",
       "      <td>2025-07-01T09:36:47.000Z</td>\n",
       "      <td>RS</td>\n",
       "      <td>5</td>\n",
       "      <td>Tour entretenido y ameno por el casco antiguo ...</td>\n",
       "      <td></td>\n",
       "      <td></td>\n",
       "      <td></td>\n",
       "      <td></td>\n",
       "      <td></td>\n",
       "      <td></td>\n",
       "      <td></td>\n",
       "      <td></td>\n",
       "      <td></td>\n",
       "      <td>False</td>\n",
       "    </tr>\n",
       "  </tbody>\n",
       "</table>\n",
       "</div>"
      ],
      "text/plain": [
       "      review_id        domain           company_name       categories  \\\n",
       "0  1a7e7f41b5d6  guruwalk.com  Guruwalk - Free tours  travel_vacation   \n",
       "1  f17c6e5f270f  guruwalk.com  Guruwalk - Free tours  travel_vacation   \n",
       "2  218f31094ed0  guruwalk.com  Guruwalk - Free tours  travel_vacation   \n",
       "3  105e9dfd9448  guruwalk.com  Guruwalk - Free tours  travel_vacation   \n",
       "4  a77cd0af2ebc  guruwalk.com  Guruwalk - Free tours  travel_vacation   \n",
       "\n",
       "  company_rating               review_date             customer_name  \\\n",
       "0            4,9  2025-07-01T23:39:24.000Z  Italo Constenla Carrillo   \n",
       "1            4,9  2025-07-01T23:21:03.000Z            Noelia Tannous   \n",
       "2            4,9  2025-07-01T20:37:20.000Z                   Cliente   \n",
       "3            4,9  2025-07-01T19:35:47.000Z           Manuel González   \n",
       "4            4,9  2025-07-01T09:36:47.000Z                        RS   \n",
       "\n",
       "   customer_score                                        review_text language  \\\n",
       "0               5  Marcelo un gran guía , una muy grata experienc...            \n",
       "1               5  Laura Trovato ha sido una magnífica guía, muy ...            \n",
       "2               5                                   Muy recomendable            \n",
       "3               5  Muy buena plataforma para hacer tours por dife...            \n",
       "4               5  Tour entretenido y ameno por el casco antiguo ...            \n",
       "\n",
       "  sentiment emotion customer_gender main_topic keywords customer_type  \\\n",
       "0                                                                       \n",
       "1                                                                       \n",
       "2                                                                       \n",
       "3                                                                       \n",
       "4                                                                       \n",
       "\n",
       "  tourist_type group_type  analyzed  \n",
       "0                             False  \n",
       "1                             False  \n",
       "2                             False  \n",
       "3                             False  \n",
       "4                             False  "
      ]
     },
     "metadata": {},
     "output_type": "display_data"
    }
   ],
   "source": [
    "# Ver estadísticas del dataset\n",
    "if 'df_results' in locals():\n",
    "    print(\"📊 Resumen del dataset:\")\n",
    "    print(f\"Total de reseñas: {len(df_results)}\")\n",
    "    print(f\"Empresas únicas: {df_results['company_name'].nunique()}\")\n",
    "    print(f\"\\nDistribución de puntuaciones:\")\n",
    "    print(df_results['customer_score'].value_counts().sort_index())\n",
    "    \n",
    "    # Mostrar primeras filas\n",
    "    print(\"\\n📋 Primeras 5 reseñas:\")\n",
    "    display(df_results.head())\n"
   ]
  },
  {
   "cell_type": "code",
   "execution_count": 13,
   "metadata": {},
   "outputs": [],
   "source": [
    "# Función para cargar y combinar múltiples archivos CSV\n",
    "def combine_csv_files(pattern=\"trustpilot_travel_reviews_*.csv\"):\n",
    "    \"\"\"Combina múltiples archivos CSV en un solo DataFrame\"\"\"\n",
    "    import glob\n",
    "    \n",
    "    files = glob.glob(pattern)\n",
    "    if not files:\n",
    "        print(\"No se encontraron archivos CSV\")\n",
    "        return None\n",
    "    \n",
    "    dfs = []\n",
    "    for file in files:\n",
    "        df = pd.read_csv(file, encoding='utf-8-sig')\n",
    "        dfs.append(df)\n",
    "    \n",
    "    combined_df = pd.concat(dfs, ignore_index=True)\n",
    "    \n",
    "    # Eliminar duplicados basados en review_id\n",
    "    combined_df = combined_df.drop_duplicates(subset=['review_id'])\n",
    "    \n",
    "    print(f\"Archivos combinados: {len(files)}\")\n",
    "    print(f\"Total de reseñas únicas: {len(combined_df)}\")\n",
    "    \n",
    "    return combined_df\n"
   ]
  },
  {
   "cell_type": "code",
   "execution_count": null,
   "metadata": {},
   "outputs": [],
   "source": [
    "'''\n",
    "# Función para filtrar reseñas por puntuación o fecha\n",
    "def filter_reviews(df, min_score=None, max_score=None, start_date=None, end_date=None):\n",
    "    \"\"\"Filtra reseñas según criterios específicos\"\"\"\n",
    "    filtered_df = df.copy()\n",
    "    \n",
    "    if min_score is not None:\n",
    "        filtered_df = filtered_df[filtered_df['customer_score'] >= min_score]\n",
    "    \n",
    "    if max_score is not None:\n",
    "        filtered_df = filtered_df[filtered_df['customer_score'] <= max_score]\n",
    "    \n",
    "    if start_date is not None:\n",
    "        filtered_df['review_date'] = pd.to_datetime(filtered_df['review_date'])\n",
    "        filtered_df = filtered_df[filtered_df['review_date'] >= start_date]\n",
    "    \n",
    "    if end_date is not None:\n",
    "        filtered_df['review_date'] = pd.to_datetime(filtered_df['review_date'])\n",
    "        filtered_df = filtered_df[filtered_df['review_date'] <= end_date]\n",
    "    \n",
    "    print(f\"Reseñas filtradas: {len(filtered_df)} de {len(df)}\")\n",
    "    return filtered_df\n",
    "\n",
    "# Ejemplo de uso:\n",
    "# df_filtered = filter_reviews(df_results, min_score=4, start_date='2024-01-01')\n",
    "'''"
   ]
  }
 ],
 "metadata": {
  "kernelspec": {
   "display_name": "Python 3",
   "language": "python",
   "name": "python3"
  },
  "language_info": {
   "codemirror_mode": {
    "name": "ipython",
    "version": 3
   },
   "file_extension": ".py",
   "mimetype": "text/x-python",
   "name": "python",
   "nbconvert_exporter": "python",
   "pygments_lexer": "ipython3",
   "version": "3.9.6"
  }
 },
 "nbformat": 4,
 "nbformat_minor": 2
}
